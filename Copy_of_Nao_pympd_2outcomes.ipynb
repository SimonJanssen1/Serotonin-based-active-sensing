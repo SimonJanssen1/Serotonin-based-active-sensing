{
  "cells": [
    {
      "cell_type": "code",
      "execution_count": null,
      "metadata": {
        "colab": {
          "base_uri": "https://localhost:8080/"
        },
        "id": "JRxRkk5kjoMv",
        "outputId": "4f960ffc-d383-48d6-844a-46e3641bab21"
      },
      "outputs": [
        {
          "output_type": "stream",
          "name": "stdout",
          "text": [
            "Looking in indexes: https://pypi.org/simple, https://us-python.pkg.dev/colab-wheels/public/simple/\n",
            "Collecting inferactively-pymdp\n",
            "  Downloading inferactively-pymdp-0.0.7.tar.gz (70 kB)\n",
            "\u001b[2K     \u001b[90m━━━━━━━━━━━━━━━━━━━━━━━━━━━━━━━━━━━━━━━━\u001b[0m \u001b[32m70.7/70.7 KB\u001b[0m \u001b[31m2.1 MB/s\u001b[0m eta \u001b[36m0:00:00\u001b[0m\n",
            "\u001b[?25h  Preparing metadata (setup.py) ... \u001b[?25l\u001b[?25hdone\n",
            "Requirement already satisfied: attrs>=20.3.0 in /usr/local/lib/python3.8/dist-packages (from inferactively-pymdp) (22.2.0)\n",
            "Requirement already satisfied: cycler>=0.10.0 in /usr/local/lib/python3.8/dist-packages (from inferactively-pymdp) (0.11.0)\n",
            "Collecting iniconfig>=1.1.1\n",
            "  Downloading iniconfig-2.0.0-py3-none-any.whl (5.9 kB)\n",
            "Requirement already satisfied: kiwisolver>=1.3.1 in /usr/local/lib/python3.8/dist-packages (from inferactively-pymdp) (1.4.4)\n",
            "Requirement already satisfied: matplotlib>=3.1.3 in /usr/local/lib/python3.8/dist-packages (from inferactively-pymdp) (3.2.2)\n",
            "Collecting nose>=1.3.7\n",
            "  Downloading nose-1.3.7-py3-none-any.whl (154 kB)\n",
            "\u001b[2K     \u001b[90m━━━━━━━━━━━━━━━━━━━━━━━━━━━━━━━━━━━━━━━\u001b[0m \u001b[32m154.7/154.7 KB\u001b[0m \u001b[31m8.2 MB/s\u001b[0m eta \u001b[36m0:00:00\u001b[0m\n",
            "\u001b[?25hRequirement already satisfied: numpy>=1.19.5 in /usr/local/lib/python3.8/dist-packages (from inferactively-pymdp) (1.21.6)\n",
            "Requirement already satisfied: openpyxl>=3.0.7 in /usr/local/lib/python3.8/dist-packages (from inferactively-pymdp) (3.0.10)\n",
            "Requirement already satisfied: packaging>=20.8 in /usr/local/lib/python3.8/dist-packages (from inferactively-pymdp) (21.3)\n",
            "Requirement already satisfied: pandas>=1.2.4 in /usr/local/lib/python3.8/dist-packages (from inferactively-pymdp) (1.3.5)\n",
            "Collecting Pillow>=8.2.0pluggy>=0.13.1\n",
            "  Downloading Pillow-9.4.0-cp38-cp38-manylinux_2_28_x86_64.whl (3.4 MB)\n",
            "\u001b[2K     \u001b[90m━━━━━━━━━━━━━━━━━━━━━━━━━━━━━━━━━━━━━━━━\u001b[0m \u001b[32m3.4/3.4 MB\u001b[0m \u001b[31m22.0 MB/s\u001b[0m eta \u001b[36m0:00:00\u001b[0m\n",
            "\u001b[?25hRequirement already satisfied: py>=1.10.0 in /usr/local/lib/python3.8/dist-packages (from inferactively-pymdp) (1.11.0)\n",
            "Requirement already satisfied: pyparsing>=2.4.7 in /usr/local/lib/python3.8/dist-packages (from inferactively-pymdp) (3.0.9)\n",
            "Collecting pytest>=6.2.1\n",
            "  Downloading pytest-7.2.1-py3-none-any.whl (317 kB)\n",
            "\u001b[2K     \u001b[90m━━━━━━━━━━━━━━━━━━━━━━━━━━━━━━━━━━━━━━\u001b[0m \u001b[32m317.1/317.1 KB\u001b[0m \u001b[31m14.8 MB/s\u001b[0m eta \u001b[36m0:00:00\u001b[0m\n",
            "\u001b[?25hRequirement already satisfied: python-dateutil>=2.8.1 in /usr/local/lib/python3.8/dist-packages (from inferactively-pymdp) (2.8.2)\n",
            "Requirement already satisfied: pytz>=2020.5 in /usr/local/lib/python3.8/dist-packages (from inferactively-pymdp) (2022.7)\n",
            "Requirement already satisfied: scipy>=1.6.0 in /usr/local/lib/python3.8/dist-packages (from inferactively-pymdp) (1.7.3)\n",
            "Requirement already satisfied: seaborn>=0.11.1 in /usr/local/lib/python3.8/dist-packages (from inferactively-pymdp) (0.11.2)\n",
            "Requirement already satisfied: six>=1.15.0 in /usr/local/lib/python3.8/dist-packages (from inferactively-pymdp) (1.15.0)\n",
            "Requirement already satisfied: toml>=0.10.2 in /usr/local/lib/python3.8/dist-packages (from inferactively-pymdp) (0.10.2)\n",
            "Requirement already satisfied: typing-extensions>=3.7.4.3 in /usr/local/lib/python3.8/dist-packages (from inferactively-pymdp) (4.4.0)\n",
            "Collecting xlsxwriter>=1.4.3\n",
            "  Downloading XlsxWriter-3.0.7-py3-none-any.whl (152 kB)\n",
            "\u001b[2K     \u001b[90m━━━━━━━━━━━━━━━━━━━━━━━━━━━━━━━━━━━━━━━\u001b[0m \u001b[32m152.8/152.8 KB\u001b[0m \u001b[31m6.9 MB/s\u001b[0m eta \u001b[36m0:00:00\u001b[0m\n",
            "\u001b[?25hCollecting sphinx-rtd-theme>=0.4\n",
            "  Downloading sphinx_rtd_theme-1.1.1-py2.py3-none-any.whl (2.8 MB)\n",
            "\u001b[2K     \u001b[90m━━━━━━━━━━━━━━━━━━━━━━━━━━━━━━━━━━━━━━━━\u001b[0m \u001b[32m2.8/2.8 MB\u001b[0m \u001b[31m12.4 MB/s\u001b[0m eta \u001b[36m0:00:00\u001b[0m\n",
            "\u001b[?25hCollecting myst-nb>=0.13.1\n",
            "  Downloading myst_nb-0.17.1-py3-none-any.whl (78 kB)\n",
            "\u001b[2K     \u001b[90m━━━━━━━━━━━━━━━━━━━━━━━━━━━━━━━━━━━━━━━━\u001b[0m \u001b[32m78.6/78.6 KB\u001b[0m \u001b[31m5.6 MB/s\u001b[0m eta \u001b[36m0:00:00\u001b[0m\n",
            "\u001b[?25hRequirement already satisfied: autograd>=1.3 in /usr/local/lib/python3.8/dist-packages (from inferactively-pymdp) (1.5)\n",
            "Requirement already satisfied: future>=0.15.2 in /usr/local/lib/python3.8/dist-packages (from autograd>=1.3->inferactively-pymdp) (0.16.0)\n",
            "Collecting nbclient\n",
            "  Downloading nbclient-0.7.2-py3-none-any.whl (71 kB)\n",
            "\u001b[2K     \u001b[90m━━━━━━━━━━━━━━━━━━━━━━━━━━━━━━━━━━━━━━━━\u001b[0m \u001b[32m72.0/72.0 KB\u001b[0m \u001b[31m3.2 MB/s\u001b[0m eta \u001b[36m0:00:00\u001b[0m\n",
            "\u001b[?25hRequirement already satisfied: importlib_metadata in /usr/local/lib/python3.8/dist-packages (from myst-nb>=0.13.1->inferactively-pymdp) (6.0.0)\n",
            "Requirement already satisfied: pyyaml in /usr/local/lib/python3.8/dist-packages (from myst-nb>=0.13.1->inferactively-pymdp) (6.0)\n",
            "Requirement already satisfied: ipykernel in /usr/local/lib/python3.8/dist-packages (from myst-nb>=0.13.1->inferactively-pymdp) (5.3.4)\n",
            "Collecting myst-parser~=0.18.0\n",
            "  Downloading myst_parser-0.18.1-py3-none-any.whl (58 kB)\n",
            "\u001b[2K     \u001b[90m━━━━━━━━━━━━━━━━━━━━━━━━━━━━━━━━━━━━━━━\u001b[0m \u001b[32m58.2/58.2 KB\u001b[0m \u001b[31m616.0 kB/s\u001b[0m eta \u001b[36m0:00:00\u001b[0m\n",
            "\u001b[?25hCollecting jupyter-cache~=0.5.0\n",
            "  Downloading jupyter_cache-0.5.0-py3-none-any.whl (34 kB)\n",
            "Requirement already satisfied: ipython in /usr/local/lib/python3.8/dist-packages (from myst-nb>=0.13.1->inferactively-pymdp) (7.9.0)\n",
            "Requirement already satisfied: nbformat~=5.0 in /usr/local/lib/python3.8/dist-packages (from myst-nb>=0.13.1->inferactively-pymdp) (5.7.1)\n",
            "Collecting sphinx<6,>=4\n",
            "  Downloading sphinx-5.3.0-py3-none-any.whl (3.2 MB)\n",
            "\u001b[2K     \u001b[90m━━━━━━━━━━━━━━━━━━━━━━━━━━━━━━━━━━━━━━━━\u001b[0m \u001b[32m3.2/3.2 MB\u001b[0m \u001b[31m11.2 MB/s\u001b[0m eta \u001b[36m0:00:00\u001b[0m\n",
            "\u001b[?25hRequirement already satisfied: et-xmlfile in /usr/local/lib/python3.8/dist-packages (from openpyxl>=3.0.7->inferactively-pymdp) (1.1.0)\n",
            "Collecting exceptiongroup>=1.0.0rc8\n",
            "  Downloading exceptiongroup-1.1.0-py3-none-any.whl (14 kB)\n",
            "Requirement already satisfied: tomli>=1.0.0 in /usr/local/lib/python3.8/dist-packages (from pytest>=6.2.1->inferactively-pymdp) (2.0.1)\n",
            "Collecting pluggy<2.0,>=0.12\n",
            "  Downloading pluggy-1.0.0-py2.py3-none-any.whl (13 kB)\n",
            "Requirement already satisfied: docutils<0.18 in /usr/local/lib/python3.8/dist-packages (from sphinx-rtd-theme>=0.4->inferactively-pymdp) (0.16)\n",
            "Requirement already satisfied: click in /usr/local/lib/python3.8/dist-packages (from jupyter-cache~=0.5.0->myst-nb>=0.13.1->inferactively-pymdp) (7.1.2)\n",
            "Requirement already satisfied: tabulate in /usr/local/lib/python3.8/dist-packages (from jupyter-cache~=0.5.0->myst-nb>=0.13.1->inferactively-pymdp) (0.8.10)\n",
            "Requirement already satisfied: sqlalchemy<1.5,>=1.3.12 in /usr/local/lib/python3.8/dist-packages (from jupyter-cache~=0.5.0->myst-nb>=0.13.1->inferactively-pymdp) (1.4.46)\n",
            "Collecting nbclient\n",
            "  Downloading nbclient-0.5.13-py3-none-any.whl (70 kB)\n",
            "\u001b[2K     \u001b[90m━━━━━━━━━━━━━━━━━━━━━━━━━━━━━━━━━━━━━━━━\u001b[0m \u001b[32m70.6/70.6 KB\u001b[0m \u001b[31m2.7 MB/s\u001b[0m eta \u001b[36m0:00:00\u001b[0m\n",
            "\u001b[?25hCollecting mdit-py-plugins~=0.3.1\n",
            "  Downloading mdit_py_plugins-0.3.3-py3-none-any.whl (50 kB)\n",
            "\u001b[2K     \u001b[90m━━━━━━━━━━━━━━━━━━━━━━━━━━━━━━━━━━━━━━━━\u001b[0m \u001b[32m50.5/50.5 KB\u001b[0m \u001b[31m2.1 MB/s\u001b[0m eta \u001b[36m0:00:00\u001b[0m\n",
            "\u001b[?25hCollecting markdown-it-py<3.0.0,>=1.0.0\n",
            "  Downloading markdown_it_py-2.1.0-py3-none-any.whl (84 kB)\n",
            "\u001b[2K     \u001b[90m━━━━━━━━━━━━━━━━━━━━━━━━━━━━━━━━━━━━━━━━\u001b[0m \u001b[32m84.5/84.5 KB\u001b[0m \u001b[31m3.4 MB/s\u001b[0m eta \u001b[36m0:00:00\u001b[0m\n",
            "\u001b[?25hRequirement already satisfied: jinja2 in /usr/local/lib/python3.8/dist-packages (from myst-parser~=0.18.0->myst-nb>=0.13.1->inferactively-pymdp) (2.11.3)\n",
            "Collecting nest-asyncio\n",
            "  Downloading nest_asyncio-1.5.6-py3-none-any.whl (5.2 kB)\n",
            "Requirement already satisfied: traitlets>=5.0.0 in /usr/local/lib/python3.8/dist-packages (from nbclient->myst-nb>=0.13.1->inferactively-pymdp) (5.7.1)\n",
            "Requirement already satisfied: jupyter-client>=6.1.5 in /usr/local/lib/python3.8/dist-packages (from nbclient->myst-nb>=0.13.1->inferactively-pymdp) (6.1.12)\n",
            "Requirement already satisfied: jupyter-core in /usr/local/lib/python3.8/dist-packages (from nbformat~=5.0->myst-nb>=0.13.1->inferactively-pymdp) (5.1.3)\n",
            "Requirement already satisfied: fastjsonschema in /usr/local/lib/python3.8/dist-packages (from nbformat~=5.0->myst-nb>=0.13.1->inferactively-pymdp) (2.16.2)\n",
            "Requirement already satisfied: jsonschema>=2.6 in /usr/local/lib/python3.8/dist-packages (from nbformat~=5.0->myst-nb>=0.13.1->inferactively-pymdp) (4.3.3)\n",
            "Requirement already satisfied: alabaster<0.8,>=0.7 in /usr/local/lib/python3.8/dist-packages (from sphinx<6,>=4->myst-nb>=0.13.1->inferactively-pymdp) (0.7.12)\n",
            "Requirement already satisfied: babel>=2.9 in /usr/local/lib/python3.8/dist-packages (from sphinx<6,>=4->myst-nb>=0.13.1->inferactively-pymdp) (2.11.0)\n",
            "Collecting Pygments>=2.12\n",
            "  Downloading Pygments-2.14.0-py3-none-any.whl (1.1 MB)\n",
            "\u001b[2K     \u001b[90m━━━━━━━━━━━━━━━━━━━━━━━━━━━━━━━━━━━━━━━━\u001b[0m \u001b[32m1.1/1.1 MB\u001b[0m \u001b[31m7.0 MB/s\u001b[0m eta \u001b[36m0:00:00\u001b[0m\n",
            "\u001b[?25hRequirement already satisfied: sphinxcontrib-serializinghtml>=1.1.5 in /usr/local/lib/python3.8/dist-packages (from sphinx<6,>=4->myst-nb>=0.13.1->inferactively-pymdp) (1.1.5)\n",
            "Requirement already satisfied: sphinxcontrib-qthelp in /usr/local/lib/python3.8/dist-packages (from sphinx<6,>=4->myst-nb>=0.13.1->inferactively-pymdp) (1.0.3)\n",
            "Requirement already satisfied: imagesize>=1.3 in /usr/local/lib/python3.8/dist-packages (from sphinx<6,>=4->myst-nb>=0.13.1->inferactively-pymdp) (1.4.1)\n",
            "Requirement already satisfied: snowballstemmer>=2.0 in /usr/local/lib/python3.8/dist-packages (from sphinx<6,>=4->myst-nb>=0.13.1->inferactively-pymdp) (2.2.0)\n",
            "Requirement already satisfied: sphinxcontrib-devhelp in /usr/local/lib/python3.8/dist-packages (from sphinx<6,>=4->myst-nb>=0.13.1->inferactively-pymdp) (1.0.2)\n",
            "Requirement already satisfied: sphinxcontrib-jsmath in /usr/local/lib/python3.8/dist-packages (from sphinx<6,>=4->myst-nb>=0.13.1->inferactively-pymdp) (1.0.1)\n",
            "Requirement already satisfied: sphinxcontrib-htmlhelp>=2.0.0 in /usr/local/lib/python3.8/dist-packages (from sphinx<6,>=4->myst-nb>=0.13.1->inferactively-pymdp) (2.0.0)\n",
            "Requirement already satisfied: sphinxcontrib-applehelp in /usr/local/lib/python3.8/dist-packages (from sphinx<6,>=4->myst-nb>=0.13.1->inferactively-pymdp) (1.0.3)\n",
            "Requirement already satisfied: requests>=2.5.0 in /usr/local/lib/python3.8/dist-packages (from sphinx<6,>=4->myst-nb>=0.13.1->inferactively-pymdp) (2.25.1)\n",
            "Collecting jinja2\n",
            "  Downloading Jinja2-3.1.2-py3-none-any.whl (133 kB)\n",
            "\u001b[2K     \u001b[90m━━━━━━━━━━━━━━━━━━━━━━━━━━━━━━━━━━━━━━━\u001b[0m \u001b[32m133.1/133.1 KB\u001b[0m \u001b[31m6.8 MB/s\u001b[0m eta \u001b[36m0:00:00\u001b[0m\n",
            "\u001b[?25hRequirement already satisfied: zipp>=0.5 in /usr/local/lib/python3.8/dist-packages (from importlib_metadata->myst-nb>=0.13.1->inferactively-pymdp) (3.11.0)\n",
            "Requirement already satisfied: tornado>=4.2 in /usr/local/lib/python3.8/dist-packages (from ipykernel->myst-nb>=0.13.1->inferactively-pymdp) (6.0.4)\n",
            "Requirement already satisfied: backcall in /usr/local/lib/python3.8/dist-packages (from ipython->myst-nb>=0.13.1->inferactively-pymdp) (0.2.0)\n",
            "Requirement already satisfied: prompt-toolkit<2.1.0,>=2.0.0 in /usr/local/lib/python3.8/dist-packages (from ipython->myst-nb>=0.13.1->inferactively-pymdp) (2.0.10)\n",
            "Requirement already satisfied: pexpect in /usr/local/lib/python3.8/dist-packages (from ipython->myst-nb>=0.13.1->inferactively-pymdp) (4.8.0)\n",
            "Requirement already satisfied: setuptools>=18.5 in /usr/local/lib/python3.8/dist-packages (from ipython->myst-nb>=0.13.1->inferactively-pymdp) (57.4.0)\n",
            "Requirement already satisfied: decorator in /usr/local/lib/python3.8/dist-packages (from ipython->myst-nb>=0.13.1->inferactively-pymdp) (4.4.2)\n",
            "Collecting jedi>=0.10\n",
            "  Downloading jedi-0.18.2-py2.py3-none-any.whl (1.6 MB)\n",
            "\u001b[2K     \u001b[90m━━━━━━━━━━━━━━━━━━━━━━━━━━━━━━━━━━━━━━━━\u001b[0m \u001b[32m1.6/1.6 MB\u001b[0m \u001b[31m14.5 MB/s\u001b[0m eta \u001b[36m0:00:00\u001b[0m\n",
            "\u001b[?25hRequirement already satisfied: pickleshare in /usr/local/lib/python3.8/dist-packages (from ipython->myst-nb>=0.13.1->inferactively-pymdp) (0.7.5)\n",
            "Requirement already satisfied: parso<0.9.0,>=0.8.0 in /usr/local/lib/python3.8/dist-packages (from jedi>=0.10->ipython->myst-nb>=0.13.1->inferactively-pymdp) (0.8.3)\n",
            "Requirement already satisfied: MarkupSafe>=2.0 in /usr/local/lib/python3.8/dist-packages (from jinja2->myst-parser~=0.18.0->myst-nb>=0.13.1->inferactively-pymdp) (2.0.1)\n",
            "Requirement already satisfied: importlib-resources>=1.4.0 in /usr/local/lib/python3.8/dist-packages (from jsonschema>=2.6->nbformat~=5.0->myst-nb>=0.13.1->inferactively-pymdp) (5.10.2)\n",
            "Requirement already satisfied: pyrsistent!=0.17.0,!=0.17.1,!=0.17.2,>=0.14.0 in /usr/local/lib/python3.8/dist-packages (from jsonschema>=2.6->nbformat~=5.0->myst-nb>=0.13.1->inferactively-pymdp) (0.19.3)\n",
            "Requirement already satisfied: pyzmq>=13 in /usr/local/lib/python3.8/dist-packages (from jupyter-client>=6.1.5->nbclient->myst-nb>=0.13.1->inferactively-pymdp) (23.2.1)\n",
            "Requirement already satisfied: platformdirs>=2.5 in /usr/local/lib/python3.8/dist-packages (from jupyter-core->nbformat~=5.0->myst-nb>=0.13.1->inferactively-pymdp) (2.6.2)\n",
            "Collecting mdurl~=0.1\n",
            "  Downloading mdurl-0.1.2-py3-none-any.whl (10.0 kB)\n",
            "Requirement already satisfied: wcwidth in /usr/local/lib/python3.8/dist-packages (from prompt-toolkit<2.1.0,>=2.0.0->ipython->myst-nb>=0.13.1->inferactively-pymdp) (0.2.5)\n",
            "Requirement already satisfied: chardet<5,>=3.0.2 in /usr/local/lib/python3.8/dist-packages (from requests>=2.5.0->sphinx<6,>=4->myst-nb>=0.13.1->inferactively-pymdp) (4.0.0)\n",
            "Requirement already satisfied: urllib3<1.27,>=1.21.1 in /usr/local/lib/python3.8/dist-packages (from requests>=2.5.0->sphinx<6,>=4->myst-nb>=0.13.1->inferactively-pymdp) (1.24.3)\n",
            "Requirement already satisfied: certifi>=2017.4.17 in /usr/local/lib/python3.8/dist-packages (from requests>=2.5.0->sphinx<6,>=4->myst-nb>=0.13.1->inferactively-pymdp) (2022.12.7)\n",
            "Requirement already satisfied: idna<3,>=2.5 in /usr/local/lib/python3.8/dist-packages (from requests>=2.5.0->sphinx<6,>=4->myst-nb>=0.13.1->inferactively-pymdp) (2.10)\n",
            "Requirement already satisfied: greenlet!=0.4.17 in /usr/local/lib/python3.8/dist-packages (from sqlalchemy<1.5,>=1.3.12->jupyter-cache~=0.5.0->myst-nb>=0.13.1->inferactively-pymdp) (2.0.1)\n",
            "Requirement already satisfied: ptyprocess>=0.5 in /usr/local/lib/python3.8/dist-packages (from pexpect->ipython->myst-nb>=0.13.1->inferactively-pymdp) (0.7.0)\n",
            "Building wheels for collected packages: inferactively-pymdp\n",
            "  Building wheel for inferactively-pymdp (setup.py) ... \u001b[?25l\u001b[?25hdone\n",
            "  Created wheel for inferactively-pymdp: filename=inferactively_pymdp-0.0.7-py3-none-any.whl size=55584 sha256=e5ecf6cbf8b6a19e7d7425f086fca324c2aaf38afc74d674a6021445e403693e\n",
            "  Stored in directory: /root/.cache/pip/wheels/17/30/ab/089a56a549b8e21959d6e660e1fd1eb06faf148e8b70a6170e\n",
            "Successfully built inferactively-pymdp\n",
            "Installing collected packages: nose, xlsxwriter, Pygments, pluggy, Pillow, nest-asyncio, mdurl, jinja2, jedi, iniconfig, exceptiongroup, sphinx, pytest, markdown-it-py, sphinx-rtd-theme, mdit-py-plugins, nbclient, myst-parser, jupyter-cache, myst-nb, inferactively-pymdp\n",
            "  Attempting uninstall: Pygments\n",
            "    Found existing installation: Pygments 2.6.1\n",
            "    Uninstalling Pygments-2.6.1:\n",
            "      Successfully uninstalled Pygments-2.6.1\n",
            "  Attempting uninstall: pluggy\n",
            "    Found existing installation: pluggy 0.7.1\n",
            "    Uninstalling pluggy-0.7.1:\n",
            "      Successfully uninstalled pluggy-0.7.1\n",
            "  Attempting uninstall: Pillow\n",
            "    Found existing installation: Pillow 7.1.2\n",
            "    Uninstalling Pillow-7.1.2:\n",
            "      Successfully uninstalled Pillow-7.1.2\n",
            "  Attempting uninstall: jinja2\n",
            "    Found existing installation: Jinja2 2.11.3\n",
            "    Uninstalling Jinja2-2.11.3:\n",
            "      Successfully uninstalled Jinja2-2.11.3\n",
            "  Attempting uninstall: sphinx\n",
            "    Found existing installation: Sphinx 3.5.4\n",
            "    Uninstalling Sphinx-3.5.4:\n",
            "      Successfully uninstalled Sphinx-3.5.4\n",
            "  Attempting uninstall: pytest\n",
            "    Found existing installation: pytest 3.6.4\n",
            "    Uninstalling pytest-3.6.4:\n",
            "      Successfully uninstalled pytest-3.6.4\n",
            "\u001b[31mERROR: pip's dependency resolver does not currently take into account all the packages that are installed. This behaviour is the source of the following dependency conflicts.\n",
            "notebook 5.7.16 requires jinja2<=3.0.0, but you have jinja2 3.1.2 which is incompatible.\n",
            "flask 1.1.4 requires Jinja2<3.0,>=2.10.1, but you have jinja2 3.1.2 which is incompatible.\u001b[0m\u001b[31m\n",
            "\u001b[0mSuccessfully installed Pillow-9.4.0 Pygments-2.14.0 exceptiongroup-1.1.0 inferactively-pymdp-0.0.7 iniconfig-2.0.0 jedi-0.18.2 jinja2-3.1.2 jupyter-cache-0.5.0 markdown-it-py-2.1.0 mdit-py-plugins-0.3.3 mdurl-0.1.2 myst-nb-0.17.1 myst-parser-0.18.1 nbclient-0.5.13 nest-asyncio-1.5.6 nose-1.3.7 pluggy-1.0.0 pytest-7.2.1 sphinx-5.3.0 sphinx-rtd-theme-1.1.1 xlsxwriter-3.0.7\n"
          ]
        }
      ],
      "source": [
        "!pip install inferactively-pymdp\n",
        "import pymdp\n",
        "from pymdp import utils\n",
        "from pymdp.agent import Agent\n",
        "import numpy as np\n",
        "import scipy\n",
        "import os.path\n",
        "import statistics as st\n",
        "import seaborn as sb\n",
        "from numpy import nan\n",
        "from matplotlib import pyplot as plt"
      ]
    },
    {
      "cell_type": "code",
      "execution_count": null,
      "metadata": {
        "id": "nmPQTs0psmtb"
      },
      "outputs": [],
      "source": [
        "class SearchEnv(object):\n",
        "    def __init__(self, D, n, B):\n",
        "\n",
        "        self.start = SearchEnv.one_hot(n, np.argmax(D))\n",
        "        self.state = self.start\n",
        "        self.n     = n\n",
        "        self.B_obj = B[0]\n",
        "        self.B_act = B[1]\n",
        "        \n",
        "    def reset(self):\n",
        "        self.state = self.start\n",
        "        \n",
        "    def step(self, action):\n",
        "        B_choice = self.B_act[:, :, action]\n",
        "        self.state = B_choice@self.state\n",
        "        \n",
        "    @staticmethod\n",
        "    def one_hot(n, idx):\n",
        "        vec = np.zeros(n)\n",
        "        vec[idx] = 1.0\n",
        "        return vec\n",
        "        \n",
        "\n",
        "init_switch = 8\n",
        "\n",
        "class Sim(object):\n",
        "    def get_obs(self, x, time):\n",
        "      context = 0 # No observation\n",
        "\n",
        "      if time >= init_switch:\n",
        "        context = 3 ## Observation at hand position 3/5\n",
        "\n",
        "      if context == 0:\n",
        "        return [1]\n",
        "    \n",
        "      return [0 if x[context] == 1 or x[8-context] == 1 else 1]\n",
        "              \n",
        "\n",
        "def run_active_inference_loop(my_agent, my_env, sim, T):\n",
        "    ## Initialize the first observation (i.e., nothing sensed)\n",
        "    obs = [1]\n",
        "    saveobs, saveq_pi, saveaction, savecont = [], [], [], []\n",
        "    \n",
        "    for t in range(T):\n",
        "\n",
        "        ## Do active inference per time step\n",
        "        qs = my_agent.infer_states(obs)\n",
        "        q_pi, efe = my_agent.infer_policies()\n",
        "        chosen_action_id = my_agent.sample_action()\n",
        "\n",
        "        ## Save data\n",
        "        idx = np.argmax(my_env.state)\n",
        "        saveobs.append(obs)\n",
        "        saveq_pi.append(q_pi)\n",
        "        saveaction.append(idx)\n",
        "        savecont.append(qs[0])\n",
        "\n",
        "        ## Generate next actions and collect new observations\n",
        "        my_env.step(int(chosen_action_id[1]))\n",
        "        obs = sim.get_obs(my_env.state, t + 1)\n",
        "    return saveobs, saveq_pi, saveaction, savecont     "
      ]
    },
    {
      "cell_type": "code",
      "execution_count": null,
      "metadata": {
        "id": "tiRn7IfzVT6z"
      },
      "outputs": [],
      "source": [
        "num_obs = [2] # Touched/Untouched\n",
        "num_states = [4, 8] # [object appearance; hand position]\n",
        "num_factors = len(num_states)\n",
        "num_controls = [1, 2] # The agent controls the hand movement only, not the object appearance\n",
        "num_modalities = 1\n",
        "\n",
        "\n",
        "\n",
        "## Baseline likelihood matrix before precision modulation\n",
        "A = utils.obj_array( num_modalities )\n",
        "A[0] = np.ndarray((2, 4, 8))\n",
        "A[0].fill(.5)\n",
        "for i in range(1,4):\n",
        "  A[0][:,i,i] = [1, 0]\n",
        "  A[0][:,i,8-i] = [1, 0]\n",
        "\n",
        "## Baseline transition matrix before precision modulation (only B[0] is changed via the precision parameter)\n",
        "\n",
        "B = utils.obj_array(num_factors)\n",
        "B[0] = np.ndarray((4, 4, 1))\n",
        "B[0][:,:,0]  = np.eye(4)\n",
        "\n",
        "B[1] = np.ndarray((8, 8, 2))\n",
        "B[1][:,:,0] = np.roll(np.eye(8),-1)\n",
        "B[1][0,7,0] = 1\n",
        "B[1][7,7,0] = 0\n",
        "B[1][:,:,1] = np.zeros((8,8))\n",
        "B[1][1:3,:2,1] = np.eye(2)\n",
        "\n",
        "for i in range(6):\n",
        "  B[1][7-i,2+i,1] = 1\n",
        "\n",
        "## Baseline initial vector before precision modulation\n",
        "\n",
        "D = utils.obj_array(num_factors)\n",
        "D_context = np.array([1, 0, 0, 0])\n",
        "\n",
        "D[0] = D_context\n",
        "D_handposition = np.zeros(8)\n",
        "\n",
        "hand = np.random.randint(0, len(D_handposition))\n",
        "D_handposition[hand] = 1.0\n",
        "D[1] = D_handposition\n",
        "\n",
        "\n",
        "## Baseline habits before precision modulation\n",
        "\n",
        "E = utils.obj_array(2)\n",
        "E = np.array([0.75, 0.25]) # Higher probabilities for selecting the high amplitude movement independently on input (i.e., Habits) "
      ]
    },
    {
      "cell_type": "code",
      "execution_count": null,
      "metadata": {
        "id": "WJj6XMMmBX_K"
      },
      "outputs": [],
      "source": [
        "##################A MULTIPLE PRECISION COMBINATIONS EXPERIMENT##################\n",
        "\n",
        "\n",
        "## Initialize precision values\n",
        "ZETA  = np.round(np.linspace(0.01, 0.3, 13), 2)\n",
        "OMEGA = [0.8] \n",
        "RHO   = [0.0001, 0.001, 0.01, 0.1, 0.3, 0.5, 0.8, 1, 2, 5, 8, 10, 100]\n",
        "T     = 40\n",
        "N     = 8 # Number of experiments per one agent\n",
        "env = SearchEnv(D[1], 8, B)\n",
        "sim = Sim()\n",
        "## Initialize matrices for saving data\n",
        "\n",
        "pol_post = np.zeros((len(ZETA),len(OMEGA),len(RHO),T,len(num_controls),N)) # posterior for policy selection\n",
        "con_post = np.zeros((len(ZETA),len(OMEGA),len(RHO),T,4,N)) # Expecting posterior probability for inferred object position\n",
        "actions  = np.zeros((len(ZETA),len(OMEGA),len(RHO),T,N)) # A single value is expected to be returned\n",
        "obser    = np.zeros((len(ZETA),len(OMEGA),len(RHO),T,N))\n",
        "\n",
        "# make copies that are used such that the crucial values dont change each iteration\n",
        "A_use = utils.obj_array(num_modalities)\n",
        "A_use[0] = np.copy(A[0])\n",
        "B_use = utils.obj_array(num_factors)\n",
        "B_use[0] = np.copy(B[0])\n",
        "B_use[1] = np.copy(B[1])\n",
        "\n",
        "## Combine all precisions together\n",
        "for n in range(N):\n",
        "  for ze, zeta in enumerate(ZETA):\n",
        "    for om, omega in enumerate(OMEGA):\n",
        "      for rh, rho in enumerate(RHO):\n",
        "      \n",
        "        ## Set up matrices with every precision iteration\n",
        "\n",
        "        for i in range(1,4):\n",
        "          A_use[0][:,i,:] = scipy.special.softmax(zeta*np.log(A[0][:,i,:]+np.exp(-8)), axis=0)\n",
        "\n",
        "        B_use[0][:,:,0] = scipy.special.softmax(omega*np.log(np.eye(4)+np.exp(-8)),axis=0)\n",
        "        E_use = scipy.special.softmax(rho*np.log(E+np.exp(-8)),axis=0)\n",
        "\n",
        "        # The D vector is included to provide a random starting hand position\n",
        "        D_handposition = np.zeros(8)\n",
        "        # hand = np.random.randint(0, len(D_handposition))\n",
        "        D_handposition[hand] = 1.0\n",
        "        D[1] = D_handposition\n",
        "\n",
        "\n",
        "        ## Assign to the agent and run the loop\n",
        "        env = SearchEnv(D[1], 8, B_use)\n",
        "        my_agent = Agent( A = A_use, B = B_use, C = None, D = D, E = E_use, use_utility = True, use_states_info_gain = True)\n",
        "        saveobs, saveq_pi, saveaction, savecont = run_active_inference_loop(my_agent, env, sim, T)\n",
        "\n",
        "        ## Collect data\n",
        "        pol_post[ze,om,rh,:,:,n]   = saveq_pi\n",
        "        con_post[ze,om,rh,:,:,n]   = savecont\n",
        "        actions[ze,om,rh,:,n]      = saveaction\n",
        "\n",
        "## Save data but make sure that they don't repeat\n",
        "np.save('Contextposterior',con_post)\n",
        "np.save('Policyposterior',pol_post)\n",
        "np.save('Handposition',actions)"
      ]
    },
    {
      "cell_type": "code",
      "execution_count": null,
      "metadata": {
        "id": "SV5D0o1hw4X3"
      },
      "outputs": [],
      "source": [
        "pol_post = np.load('Policyposterior.npy')\n",
        "con_post = np.load('Contextposterior.npy')\n",
        "actions  = np.load('Handposition.npy')"
      ]
    },
    {
      "cell_type": "code",
      "execution_count": null,
      "metadata": {
        "colab": {
          "base_uri": "https://localhost:8080/",
          "height": 337
        },
        "id": "wNt7zmu3w6PK",
        "outputId": "6cab8e3a-0557-4e3c-85de-8603a49452dd"
      },
      "outputs": [
        {
          "output_type": "execute_result",
          "data": {
            "text/plain": [
              "[Text(33.0, 0.5, 'Zeta'), Text(0.5, 15.0, 'Rho')]"
            ]
          },
          "metadata": {},
          "execution_count": 6
        },
        {
          "output_type": "display_data",
          "data": {
            "text/plain": [
              "<Figure size 432x288 with 2 Axes>"
            ],
            "image/png": "[encoded data removed]"
          },
          "metadata": {
            "needs_background": "light"
          }
        }
      ],
      "source": [
        "# i) time delay of a switch policy\n",
        "pol_switch = np.argmax(pol_post, axis=4)\n",
        "pol_switch_time = np.zeros((len(ZETA), len(OMEGA), len(RHO), N))\n",
        "for ze in range(len(ZETA)):\n",
        "  for om in range(len(OMEGA)):\n",
        "    for rh in range(len(RHO)):\n",
        "      for n in range(N):\n",
        "        # search for times where the policy 1 > policy 0\n",
        "        nonzeros = np.nonzero(pol_switch[ze, om, rh, :, n])[0]\n",
        "        pol_switch_time[ze, om, rh, n] = T if not nonzeros.size else nonzeros[0]\n",
        "\n",
        "pol_switch_time -= init_switch # subtract the timepoint of stimulation start\n",
        "mean_pol_switch_time = pol_switch_time.mean(axis=3)\n",
        "std_pol_switch_time = pol_switch_time.std(axis=3)\n",
        "fig = sb.heatmap(mean_pol_switch_time.squeeze(), xticklabels=RHO, yticklabels=ZETA)\n",
        "fig.set(title='Behavioural Switch Delay')\n",
        "fig.set(xlabel='Rho', ylabel='Zeta')"
      ]
    },
    {
      "cell_type": "code",
      "source": [
        "# ii) Contextual switch delay\n",
        "used_context = np.argmax(con_post, axis=4)\n",
        "switch_time = np.zeros((len(ZETA), len(OMEGA), len(RHO), N))\n",
        "for ze in range(len(ZETA)):\n",
        "  for om in range(len(OMEGA)):\n",
        "    for rh in range(len(RHO)):\n",
        "      for n in range(N):\n",
        "        v_forw = used_context[ze, om, rh, :-1, n]\n",
        "        v_back = used_context[ze, om, rh, 1:, n]\n",
        "        context_switches = np.where(v_forw != v_back)[0] # search for number switches in the rows\n",
        "        if len(context_switches) >= 1:\n",
        "          switch_time[ze, om, rh, n] = context_switches[0] - init_switch\n",
        "        else:\n",
        "          switch_time[ze, om, rh, n] = T\n",
        "\n",
        "mean_switch_times = switch_time.mean(axis=-1)\n",
        "fig = sb.heatmap(mean_switch_times.squeeze(), xticklabels=RHO, yticklabels=ZETA)\n",
        "fig.set(title='Contextual Switch Delay')\n",
        "fig.set(xlabel='Rho', ylabel='Zeta')"
      ],
      "metadata": {
        "colab": {
          "base_uri": "https://localhost:8080/",
          "height": 337
        },
        "id": "Ux0SSBn6nOXg",
        "outputId": "c02c60b3-c5a0-4504-e7c7-4c89c36936d1"
      },
      "execution_count": null,
      "outputs": [
        {
          "output_type": "execute_result",
          "data": {
            "text/plain": [
              "[Text(33.0, 0.5, 'Zeta'), Text(0.5, 15.0, 'Rho')]"
            ]
          },
          "metadata": {},
          "execution_count": 7
        },
        {
          "output_type": "display_data",
          "data": {
            "text/plain": [
              "<Figure size 432x288 with 2 Axes>"
            ],
            "image/png": "[encoded data removed]"
          },
          "metadata": {
            "needs_background": "light"
          }
        }
      ]
    },
    {
      "cell_type": "code",
      "source": [
        "# iii) Duration of policy switch\n",
        "\n",
        "switch_durations = np.zeros((len(ZETA), len(OMEGA), len(RHO), N))\n",
        "for ze in range(len(ZETA)):\n",
        "  for om in range(len(OMEGA)):\n",
        "    for rh in range(len(RHO)):\n",
        "      for n in range(N):\n",
        "        v = pol_switch[ze, om, rh, :, n]\n",
        "        pol_switch_times = np.where(v == 1)[0] # select timepoints where policy 1 > policy 0\n",
        "        if len(pol_switch_times) >= 2: # if two switches occured take the difference\n",
        "          switch_durations[ze, om, rh, n] = pol_switch_times[-1] - pol_switch_times[0]\n",
        "        else:\n",
        "          switch_durations[ze, om, rh, n] = 45 # max difference when no second switch occured\n",
        "           \n",
        "\n",
        "mean_switch_durations = switch_durations.mean(axis=-1)\n",
        "fig = sb.heatmap(mean_switch_durations.squeeze(), xticklabels=RHO, yticklabels=ZETA)\n",
        "fig.set(title='Small Amplitude Movement Duration')\n",
        "fig.set(xlabel='Rho', ylabel='Zeta')"
      ],
      "metadata": {
        "id": "jlP4nSx9tjoY",
        "colab": {
          "base_uri": "https://localhost:8080/",
          "height": 337
        },
        "outputId": "304bea7f-87ec-4b33-a0ee-858f83e7523d"
      },
      "execution_count": null,
      "outputs": [
        {
          "output_type": "execute_result",
          "data": {
            "text/plain": [
              "[Text(33.0, 0.5, 'Zeta'), Text(0.5, 15.0, 'Rho')]"
            ]
          },
          "metadata": {},
          "execution_count": 11
        },
        {
          "output_type": "display_data",
          "data": {
            "text/plain": [
              "<Figure size 432x288 with 2 Axes>"
            ],
            "image/png": "[encoded data removed]"
          },
          "metadata": {
            "needs_background": "light"
          }
        }
      ]
    },
    {
      "cell_type": "code",
      "source": [
        "# iv) avg height of small movement behaviour (NOT USED)\n",
        "\n",
        "heights = np.zeros((len(ZETA), len(OMEGA), len(RHO), N))\n",
        "\n",
        "small_movement_values = pol_post[:, :, :, :, 1, :]\n",
        "\n",
        "for ze in range(len(ZETA)):\n",
        "  for om in range(len(OMEGA)):\n",
        "    for rh in range(len(RHO)):\n",
        "      for n in range(N):\n",
        "        # select means of values where the policy 1 is > 0.5\n",
        "        v = small_movement_values[ze, om, rh, :, n]\n",
        "        indices = np.where(v > 0.5)[0]\n",
        "        above_05 = v[indices]\n",
        "        heights[ze, om, rh, n] = above_05.mean() if len(above_05) else -1\n",
        "\n",
        "heights_mean = heights.mean(axis=-1)\n",
        "fig = sb.heatmap(heights_mean.squeeze(), xticklabels=RHO, yticklabels=ZETA)\n",
        "fig.set(title='Mean maximum amplitudes')\n",
        "fig.set(xlabel='Rho', ylabel='Zeta')"
      ],
      "metadata": {
        "colab": {
          "base_uri": "https://localhost:8080/",
          "height": 337
        },
        "id": "JKW-hzd7-Vrt",
        "outputId": "9c39a6eb-0a23-411b-84a3-9b0d40b21e52"
      },
      "execution_count": null,
      "outputs": [
        {
          "output_type": "execute_result",
          "data": {
            "text/plain": [
              "[Text(33.0, 0.5, 'Zeta'), Text(0.5, 15.0, 'Rho')]"
            ]
          },
          "metadata": {},
          "execution_count": 9
        },
        {
          "output_type": "display_data",
          "data": {
            "text/plain": [
              "<Figure size 432x288 with 2 Axes>"
            ],
            "image/png": "[encoded data removed]"
          },
          "metadata": {
            "needs_background": "light"
          }
        }
      ]
    },
    {
      "cell_type": "code",
      "execution_count": null,
      "metadata": {
        "id": "gu0ZBle6JT2L"
      },
      "outputs": [],
      "source": []
    }
  ],
  "metadata": {
    "colab": {
      "provenance": []
    },
    "kernelspec": {
      "display_name": "Python 3",
      "name": "python3"
    },
    "language_info": {
      "name": "python"
    }
  },
  "nbformat": 4,
  "nbformat_minor": 0
}